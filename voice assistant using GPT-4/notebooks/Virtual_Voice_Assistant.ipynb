{
 "cells": [
  {
   "cell_type": "code",
   "execution_count": 1,
   "metadata": {
    "colab": {
     "base_uri": "https://localhost:8080/"
    },
    "id": "OWP_afvW3JMM",
    "outputId": "ebd48318-84a1-469d-c10e-222ad2556b5c"
   },
   "outputs": [
    {
     "name": "stderr",
     "output_type": "stream",
     "text": [
      "Cloning into 'Virtual-Voice-Assistant'...\n"
     ]
    }
   ],
   "source": [
    "!git clone https://github.com/Krish-Depani/Virtual-Voice-Assistant.git"
   ]
  },
  {
   "cell_type": "code",
   "execution_count": 5,
   "metadata": {
    "colab": {
     "base_uri": "https://localhost:8080/"
    },
    "id": "29_u1PJ13jBG",
    "outputId": "d050de8f-0926-425e-b132-c6d6cf50676a"
   },
   "outputs": [
    {
     "name": "stdout",
     "output_type": "stream",
     "text": [
      "D:\\Generative AI-San Fransisco\\github projects\\Audio Generator\\notebooks\\Virtual-Voice-Assistant\n"
     ]
    }
   ],
   "source": [
    "cd Virtual-Voice-Assistant"
   ]
  },
  {
   "cell_type": "code",
   "execution_count": 7,
   "metadata": {
    "colab": {
     "base_uri": "https://localhost:8080/"
    },
    "id": "UtZlo6HU3m0N",
    "outputId": "bbf0b62b-298a-4156-ad4c-7a6e52477697"
   },
   "outputs": [
    {
     "name": "stdout",
     "output_type": "stream",
     "text": [
      "Collecting pyttsx3==2.6\n",
      "  Using cached pyttsx3-2.6.zip (31 kB)\n",
      "Collecting SpeechRecognition==3.8.1\n",
      "  Using cached SpeechRecognition-3.8.1-py2.py3-none-any.whl (32.8 MB)\n",
      "Collecting tensorflow==2.10.0\n",
      "THIS MAY TAKE A WHILE DEPENDING ON YOUR SYSTEM AND INTERNET SPEED\n",
      "\n",
      "PLEASE WAIT..\n",
      "\n",
      "\n",
      "MODULES NOT INSTALLED!\n"
     ]
    },
    {
     "name": "stderr",
     "output_type": "stream",
     "text": [
      "ERROR: Exception:\n",
      "Traceback (most recent call last):\n",
      "  File \"C:\\Users\\home\\anaconda3\\lib\\site-packages\\pip\\_internal\\cli\\base_command.py\", line 173, in _main\n",
      "    status = self.run(options, args)\n",
      "  File \"C:\\Users\\home\\anaconda3\\lib\\site-packages\\pip\\_internal\\cli\\req_command.py\", line 203, in wrapper\n",
      "    return func(self, options, args)\n",
      "  File \"C:\\Users\\home\\anaconda3\\lib\\site-packages\\pip\\_internal\\commands\\install.py\", line 315, in run\n",
      "    requirement_set = resolver.resolve(\n",
      "  File \"C:\\Users\\home\\anaconda3\\lib\\site-packages\\pip\\_internal\\resolution\\resolvelib\\resolver.py\", line 94, in resolve\n",
      "    result = self._result = resolver.resolve(\n",
      "  File \"C:\\Users\\home\\anaconda3\\lib\\site-packages\\pip\\_vendor\\resolvelib\\resolvers.py\", line 472, in resolve\n",
      "    state = resolution.resolve(requirements, max_rounds=max_rounds)\n",
      "  File \"C:\\Users\\home\\anaconda3\\lib\\site-packages\\pip\\_vendor\\resolvelib\\resolvers.py\", line 341, in resolve\n",
      "    self._add_to_criteria(self.state.criteria, r, parent=None)\n",
      "  File \"C:\\Users\\home\\anaconda3\\lib\\site-packages\\pip\\_vendor\\resolvelib\\resolvers.py\", line 172, in _add_to_criteria\n",
      "    if not criterion.candidates:\n",
      "  File \"C:\\Users\\home\\anaconda3\\lib\\site-packages\\pip\\_vendor\\resolvelib\\structs.py\", line 151, in __bool__\n",
      "    return bool(self._sequence)\n",
      "  File \"C:\\Users\\home\\anaconda3\\lib\\site-packages\\pip\\_internal\\resolution\\resolvelib\\found_candidates.py\", line 140, in __bool__\n",
      "    return any(self)\n",
      "  File \"C:\\Users\\home\\anaconda3\\lib\\site-packages\\pip\\_internal\\resolution\\resolvelib\\found_candidates.py\", line 128, in <genexpr>\n",
      "    return (c for c in iterator if id(c) not in self._incompatible_ids)\n",
      "  File \"C:\\Users\\home\\anaconda3\\lib\\site-packages\\pip\\_internal\\resolution\\resolvelib\\found_candidates.py\", line 32, in _iter_built\n",
      "    candidate = func()\n",
      "  File \"C:\\Users\\home\\anaconda3\\lib\\site-packages\\pip\\_internal\\resolution\\resolvelib\\factory.py\", line 204, in _make_candidate_from_link\n",
      "    self._link_candidate_cache[link] = LinkCandidate(\n",
      "  File \"C:\\Users\\home\\anaconda3\\lib\\site-packages\\pip\\_internal\\resolution\\resolvelib\\candidates.py\", line 295, in __init__\n",
      "    super().__init__(\n",
      "  File \"C:\\Users\\home\\anaconda3\\lib\\site-packages\\pip\\_internal\\resolution\\resolvelib\\candidates.py\", line 156, in __init__\n",
      "    self.dist = self._prepare()\n",
      "  File \"C:\\Users\\home\\anaconda3\\lib\\site-packages\\pip\\_internal\\resolution\\resolvelib\\candidates.py\", line 227, in _prepare\n",
      "    dist = self._prepare_distribution()\n",
      "  File \"C:\\Users\\home\\anaconda3\\lib\\site-packages\\pip\\_internal\\resolution\\resolvelib\\candidates.py\", line 305, in _prepare_distribution\n",
      "    return self._factory.preparer.prepare_linked_requirement(\n",
      "  File \"C:\\Users\\home\\anaconda3\\lib\\site-packages\\pip\\_internal\\operations\\prepare.py\", line 508, in prepare_linked_requirement\n",
      "    return self._prepare_linked_requirement(req, parallel_builds)\n",
      "  File \"C:\\Users\\home\\anaconda3\\lib\\site-packages\\pip\\_internal\\operations\\prepare.py\", line 550, in _prepare_linked_requirement\n",
      "    local_file = unpack_url(\n",
      "  File \"C:\\Users\\home\\anaconda3\\lib\\site-packages\\pip\\_internal\\operations\\prepare.py\", line 239, in unpack_url\n",
      "    file = get_http_url(\n",
      "  File \"C:\\Users\\home\\anaconda3\\lib\\site-packages\\pip\\_internal\\operations\\prepare.py\", line 102, in get_http_url\n",
      "    from_path, content_type = download(link, temp_dir.path)\n",
      "  File \"C:\\Users\\home\\anaconda3\\lib\\site-packages\\pip\\_internal\\network\\download.py\", line 132, in __call__\n",
      "    resp = _http_get_download(self._session, link)\n",
      "  File \"C:\\Users\\home\\anaconda3\\lib\\site-packages\\pip\\_internal\\network\\download.py\", line 115, in _http_get_download\n",
      "    resp = session.get(target_url, headers=HEADERS, stream=True)\n",
      "  File \"C:\\Users\\home\\anaconda3\\lib\\site-packages\\pip\\_vendor\\requests\\sessions.py\", line 555, in get\n",
      "    return self.request('GET', url, **kwargs)\n",
      "  File \"C:\\Users\\home\\anaconda3\\lib\\site-packages\\pip\\_internal\\network\\session.py\", line 454, in request\n",
      "    return super().request(method, url, *args, **kwargs)\n",
      "  File \"C:\\Users\\home\\anaconda3\\lib\\site-packages\\pip\\_vendor\\requests\\sessions.py\", line 542, in request\n",
      "    resp = self.send(prep, **send_kwargs)\n",
      "  File \"C:\\Users\\home\\anaconda3\\lib\\site-packages\\pip\\_vendor\\requests\\sessions.py\", line 655, in send\n",
      "    r = adapter.send(request, **kwargs)\n",
      "  File \"C:\\Users\\home\\anaconda3\\lib\\site-packages\\pip\\_vendor\\cachecontrol\\adapter.py\", line 44, in send\n",
      "    cached_response = self.controller.cached_request(request)\n",
      "  File \"C:\\Users\\home\\anaconda3\\lib\\site-packages\\pip\\_vendor\\cachecontrol\\controller.py\", line 145, in cached_request\n",
      "    resp = self.serializer.loads(request, cache_data)\n",
      "  File \"C:\\Users\\home\\anaconda3\\lib\\site-packages\\pip\\_vendor\\cachecontrol\\serialize.py\", line 97, in loads\n",
      "    return getattr(self, \"_loads_v{}\".format(ver))(request, data)\n",
      "  File \"C:\\Users\\home\\anaconda3\\lib\\site-packages\\pip\\_vendor\\cachecontrol\\serialize.py\", line 184, in _loads_v4\n",
      "    cached = msgpack.loads(data, raw=False)\n",
      "  File \"C:\\Users\\home\\anaconda3\\lib\\site-packages\\pip\\_vendor\\msgpack\\fallback.py\", line 129, in unpackb\n",
      "    ret = unpacker._unpack()\n",
      "  File \"C:\\Users\\home\\anaconda3\\lib\\site-packages\\pip\\_vendor\\msgpack\\fallback.py\", line 671, in _unpack\n",
      "    ret[key] = self._unpack(EX_CONSTRUCT)\n",
      "  File \"C:\\Users\\home\\anaconda3\\lib\\site-packages\\pip\\_vendor\\msgpack\\fallback.py\", line 671, in _unpack\n",
      "    ret[key] = self._unpack(EX_CONSTRUCT)\n",
      "  File \"C:\\Users\\home\\anaconda3\\lib\\site-packages\\pip\\_vendor\\msgpack\\fallback.py\", line 625, in _unpack\n",
      "    typ, n, obj = self._read_header(execute)\n",
      "  File \"C:\\Users\\home\\anaconda3\\lib\\site-packages\\pip\\_vendor\\msgpack\\fallback.py\", line 468, in _read_header\n",
      "    obj = self._read(n)\n",
      "  File \"C:\\Users\\home\\anaconda3\\lib\\site-packages\\pip\\_vendor\\msgpack\\fallback.py\", line 376, in _read\n",
      "    ret = self._buffer[i : i + n]\n",
      "MemoryError\n",
      "Using TensorFlow backend.\n"
     ]
    }
   ],
   "source": [
    "!python setup.py"
   ]
  },
  {
   "cell_type": "code",
   "execution_count": 4,
   "metadata": {
    "colab": {
     "base_uri": "https://localhost:8080/"
    },
    "id": "ybJg2BUd30_s",
    "outputId": "49ae6bde-04c9-47b2-d3a1-adaede03d61a"
   },
   "outputs": [
    {
     "name": "stderr",
     "output_type": "stream",
     "text": [
      "python: can't open file 'D:\\content\\Virtual-Voice-Assistant\\Plugins\\main.py': [Errno 2] No such file or directory\n"
     ]
    }
   ],
   "source": [
    "!python /content/Virtual-Voice-Assistant/Plugins/main.py"
   ]
  }
 ],
 "metadata": {
  "accelerator": "GPU",
  "colab": {
   "gpuType": "T4",
   "provenance": []
  },
  "gpuClass": "standard",
  "kernelspec": {
   "display_name": "Python 3 (ipykernel)",
   "language": "python",
   "name": "python3"
  },
  "language_info": {
   "codemirror_mode": {
    "name": "ipython",
    "version": 3
   },
   "file_extension": ".py",
   "mimetype": "text/x-python",
   "name": "python",
   "nbconvert_exporter": "python",
   "pygments_lexer": "ipython3",
   "version": "3.9.12"
  }
 },
 "nbformat": 4,
 "nbformat_minor": 1
}
