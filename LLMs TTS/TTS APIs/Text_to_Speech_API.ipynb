{
 "cells": [
  {
   "cell_type": "code",
   "execution_count": 1,
   "metadata": {},
   "outputs": [],
   "source": [
    "#best API services \n",
    "\n",
    "# https://cloud.google.com/text-to-speech\n",
    "# https://aws.amazon.com/polly/"
   ]
  },
  {
   "cell_type": "markdown",
   "metadata": {
    "id": "6j7HZ5bnP0Iu"
   },
   "source": [
    "**Large text to speech**\n",
    "\n",
    "[Large text to speech RapidAPI](https://rapidapi.com/k_1/api/large-text-to-speech)"
   ]
  },
  {
   "cell_type": "markdown",
   "metadata": {
    "id": "gzx9ncpIQKjY"
   },
   "source": [
    "**Python Http Client**"
   ]
  },
  {
   "cell_type": "code",
   "execution_count": 2,
   "metadata": {
    "colab": {
     "base_uri": "https://localhost:8080/"
    },
    "id": "yH7cc6LM4HvM",
    "outputId": "663ec0a0-8fa8-4c11-918d-65ca117fe766"
   },
   "outputs": [
    {
     "name": "stdout",
     "output_type": "stream",
     "text": [
      "{\"messages\":\"Sorry, we are unable to provide RapidAPI services to your location. RapidAPI is required to comply with US laws that restrict the use of our services in embargoed countries. If you believe you receiving this message in error, please contact support@rapidapi.com.\"}\n"
     ]
    }
   ],
   "source": [
    "import http.client\n",
    "\n",
    "conn = http.client.HTTPSConnection(\"large-text-to-speech.p.rapidapi.com\")\n",
    "\n",
    "payload = \"{\\r\\n    \\\"text\\\": \\\" The emergence of Covid provoked a worldwide economic crash. That lasted a mere four weeks. By the time western countries were locking down, a bull market had begun afresh. Through months of lockdowns, soaring case rates and death rates, shares were not just rebounding but marking new highs – firstly involving tech shares and online retailers which had done well from social distancing, but then pretty much anything. The arrival of the first vaccine phase 3 trial results in November 2020 sent shares spinning upwards, yet the emergence of the Alpha and Delta strains didn’t seem to do any harm. And now that economies seem finally to be putting Covid behind them? In Britain, plan B has ended. Denmark has ditched its Covid restrictions entirely. The Netherlands is relaxing its own regime. The omicron wave is petering out, and beginning to look like the ‘natural vaccine’ which some claimed it was from the beginning: highly infectious but much less severe. Yet markets, perversely, seemed to pick up a different story. Tech shares went deep into a correction. The S&P500 may have recovered in recent days, but it is still heavily down on where it was at the end of 2021. Only the FTSE100 seems to have had a good time – but then it has underperformed for years, reviving now mostly because of its domination by plodding, defensive shares. It is true that so long as Vladimir Putin’s tanks remain parked on the Ukraine border it is hard to feel positive about the world. Were they to cross the border and provoke a round of serious sanctions, Europe could well end up the loser – were Russia to cut off the gas supplies, it could send energy prices soaring to even greater heights. Then again, every day that an invasion of Ukraine fails to happen, the less likely it becomes – and we are already four weeks beyond the date it was expected. What really spooked the market was Federal Reserve Chairman Jay Powell, who made it clear that interest rates would rise. Yet rates are rising precisely because the global economy is recovering, with demand for energy and natural resources soaring, feeding through into consumer inflation. Recent US GDP figures showed that the economy expanded by 5.7 per cent in 2021, the strongest rate since 1984. What’s more, the pace is increasing – with an annualised rate of growth of 6.9 per cent in the final quarter. In any case, interest rates will remain at near 400 year lows. No-one expects them to go up to anything like the levels they were in the 1990s. That ought to be good news. Yet investors flee the moment that central banks even make the suggestion that they are thinking of withdrawing the punch bowl of cheap debt. Markets have become so addicted to stimulus packages that they can’t seem to live without them. A weird alignment of interests between speculators and catastrophists has emerged. It has created the perverse situation where good economic news has become bad investment news and vice versa. If the economy is on the slide, the markets begin to expect that another stimulus package is on the way – and share prices rise. If the economy rebounds, then investors begin to fret about the withdrawal of stimulus. Markets and the economy are not merely running out of kilter; to some extent they have become counter-cyclical. The origins of this can be traced to former Federal Reserve chairman Alan Greenspan and his ‘Greenspan put’ – the practice of trying to prop up markets with sharp interest rate cuts and quantitative easing. Rather than stimulating the economy, however, the main effect has been to inflate speculative bubbles in asset prices. Tech companies which do not make profits and in some cases look unlikely ever to make profits are bid up to extraordinary values which can only be sustained in an ultra-low interest rate environment. Housing markets march upwards – in Britain’s case thanks not just to low interest rates but also to government initiatives to underwrite high loan-to-value mortgages and thrust bungs directly into the hands of first time buyers. Over the years, what was intended as a one-off response to the 1987 crash and the Asian crisis on 1998 has formed an expectation among speculators that governments and central banks will always try to bail out markets if the sense of crisis is great enough. Speculators have thus been given a perverse incentive to create a sense of crisis – in the hope that it might help to keep the stimulus ball rolling. Fear, it might be said, provokes reward. There emerges, then, a weird alignment of interests between speculators and catastrophists. For speculators, it becomes in their interests for crisis to prevail, for the pandemic never to end, for Putin’s tanks to be mustered at the Ukraine border – or more mundanely for a poor set of jobs figures or disappointing GDP statistics. What has kept central banks from raising rates or winding in quantitative easing over the past decade is doubt. We still have the monetary policy devised in the depths of the 2008/09 crisis because every time it seemed as if it might be time to normalise policy, rate-setters just had enough doubt to ask: is this really the right time to be raising rates or should we just wait another month or two and see if the economic signals are better then? Come crisis, and we get very rapid reaction with stimulus policies, but come recovery and the normalisation process is agonisingly slow. It won’t take much, either, for Federal Reserve Chairman Jay Powell to go back on his suggestion that interest rates might be raised at the Fed’s March meeting. The Ukraine situation may not have been resolved, there may be another variant of Covid, we may have had a disappointing set of economic figures, markets may have slid further – for anyone who wants to look hard enough there will be a crisis, or potential crisis, to be seen – because there always is. There will never be an occasion when all is clear on the economic horizon. And you can be sure that those with a vested interest in the maintenance of stimulus will be lobbying hard for it. But we should ask where is it all taking us, the era of permanent central bank stimulus? We are heading in the opposite direction from what governments say they want to achieve: greater equality, to lessen the gap between rich and poor, to ‘level-up’. Perpetual stimulus is making those with assets ever richer, at the expense of those who do not have assets. The rich get richer, the poor get inflation. It turns financial speculation not quite into a one-way bet but certainly into a game where the dice are loaded in your favour. It is an economic system which works on the principle of laissez faire when markets are on the way up – and interventionism when they are on the way down. At some point there is going to be irresistible demands to tackle the unfairness of it all. There is a pretty simple solution, which is not to intervene to prop up markets – to tell investors and speculators that they are on their own, caveat emptor and all that. If you make money, then bully for you; if you lose it, well, that’s capitalism, folks. At the moment governments and central banks swallow the argument that we can’t allow markets to crash because it would damage the economy and everyone would suffer. But is that true? The economy didn’t suffer from the 1987 crash, and nor did it from the dotcom crash of 2000 to 2003. On the contrary, economic growth carried on independent of losses in the City or on Wall Street. The dotcom crash didn’t even do anything to hinder the development of the internet, which carried on regardless. End the bailouts, end the stimulus packages and some will lose money. But the economy, and the world, would carry on spinning. It is just that it would be a lot fairer a world. What we have had for the past dozen years is crony capitalism, where governments and central banks act in the interests of a few, but disguise it as help for the many. It is time to end crony capitalism and make way for the real thing. \\\"\\r\\n}\"\n",
    "\n",
    "headers = {\n",
    "    'content-type': \"application/json; charset=utf-8\",\n",
    "    'X-RapidAPI-Key': \"b8ff8ec191mshb64ff9ffea5e1a7p1b981bjsnb626b1b606f3\",\n",
    "    'X-RapidAPI-Host': \"large-text-to-speech.p.rapidapi.com\"\n",
    "}\n",
    "\n",
    "conn.request(\"POST\", \"/tts\", payload.encode('utf-8'), headers )\n",
    "\n",
    "res = conn.getresponse()\n",
    "data = res.read()\n",
    "\n",
    "print(data.decode(\"utf-8\"))"
   ]
  },
  {
   "cell_type": "code",
   "execution_count": 3,
   "metadata": {
    "id": "aEoynOa3PJU1"
   },
   "outputs": [
    {
     "data": {
      "text/plain": [
       "{'id': '89e53bf8-5788-4850-8e04-77c7bad7a00e',\n",
       " 'status': 'processing',\n",
       " 'eta': 104,\n",
       " 'text': ' The emergence of Covid provoked a worldwide economic crash. That lasted a mere four weeks. By the time western countries were locking down, a bull market had begun afresh. Through months of lockdowns, soaring case rates and death rates, shares were not just rebounding but marking new highs – firstly involving tech shares and online retailers which had done well from social distancing, but then pretty much anything. The arrival of the first vaccine phase 3 trial results in November 2020 sent shares spinning upwards, yet the emergence of the Alpha and Delta strains didn’t seem to do any harm. And now that economies seem finally to be putting Covid behind them? In Britain, plan B has ended. Denmark has ditched its Covid restrictions entirely. The Netherlands is relaxing its own regime. The omicron wave is petering out, and beginning to look like the ‘natural vaccine’ which some claimed it was from the beginning: highly infectious but much less severe. Yet markets, perversely, seemed to pick up a different story. Tech shares went deep into a correction. The S&P500 may have recovered in recent days, but it is still heavily down on where it was at the end of 2021. Only the FTSE100 seems to have had a good time – but then it has underperformed for years, reviving now mostly because of its domination by plodding, defensive shares. It is true that so long as Vladimir Putin’s tanks remain parked on the Ukraine border it is hard to feel positive about the world. Were they to cross the border and provoke a round of serious sanctions, Europe could well end up the loser – were Russia to cut off the gas supplies, it could send energy prices soaring to even greater heights. Then again, every day that an invasion of Ukraine fails to happen, the less likely it becomes – and we are already four weeks beyond the date it was expected. What really spooked the market was Federal Reserve Chairman Jay Powell, who made it clear that interest rates would rise. Yet rates are rising precisely because the global economy is recovering, with demand for energy and natural resources soaring, feeding through into consumer inflation. Recent US GDP figures showed that the economy expanded by 5.7 per cent in 2021, the strongest rate since 1984. What’s more, the pace is increasing – with an annualised rate of growth of 6.9 per cent in the final quarter. In any case, interest rates will remain at near 400 year lows. No-one expects them to go up to anything like the levels they were in the 1990s. That ought to be good news. Yet investors flee the moment that central banks even make the suggestion that they are thinking of withdrawing the punch bowl of cheap debt. Markets have become so addicted to stimulus packages that they can’t seem to live without them. A weird alignment of interests between speculators and catastrophists has emerged. It has created the perverse situation where good economic news has become bad investment news and vice versa. If the economy is on the slide, the markets begin to expect that another stimulus package is on the way – and share prices rise. If the economy rebounds, then investors begin to fret about the withdrawal of stimulus. Markets and the economy are not merely running out of kilter; to some extent they have become counter-cyclical. The origins of this can be traced to former Federal Reserve chairman Alan Greenspan and his ‘Greenspan put’ – the practice of trying to prop up markets with sharp interest rate cuts and quantitative easing. Rather than stimulating the economy, however, the main effect has been to inflate speculative bubbles in asset prices. Tech companies which do not make profits and in some cases look unlikely ever to make profits are bid up to extraordinary values which can only be sustained in an ultra-low interest rate environment. Housing markets march upwards – in Britain’s case thanks not just to low interest rates but also to government initiatives to underwrite high loan-to-value mortgages and thrust bungs directly into the hands of first time buyers. Over the years, what was intended as a one-off response to the 1987 crash and the Asian crisis on 1998 has formed an expectation among speculators that governments and central banks will always try to bail out markets if the sense of crisis is great enough. Speculators have thus been given a perverse incentive to create a sense of crisis – in the hope that it might help to keep the stimulus ball rolling. Fear, it might be said, provokes reward. There emerges, then, a weird alignment of interests between speculators and catastrophists. For speculators, it becomes in their interests for crisis to prevail, for the pandemic never to end, for Putin’s tanks to be mustered at the Ukraine border – or more mundanely for a poor set of jobs figures or disappointing GDP statistics. What has kept central banks from raising rates or winding in quantitative easing over the past decade is doubt. We still have the monetary policy devised in the depths of the 2008/09 crisis because every time it seemed as if it might be time to normalise policy, rate-setters just had enough doubt to ask: is this really the right time to be raising rates or should we just wait another month or two and see if the economic signals are better then? Come crisis, and we get very rapid reaction with stimulus policies, but come recovery and the normalisation process is agonisingly slow. It won’t take much, either, for Federal Reserve Chairman Jay Powell to go back on his suggestion that interest rates might be raised at the Fed’s March meeting. The Ukraine situation may not have been resolved, there may be another variant of Covid, we may have had a disappointing set of economic figures, markets may have slid further – for anyone who wants to look hard enough there will be a crisis, or potential crisis, to be seen – because there always is. There will never be an occasion when all is clear on the economic horizon. And you can be sure that those with a vested interest in the maintenance of stimulus will be lobbying hard for it. But we should ask where is it all taking us, the era of permanent central bank stimulus? We are heading in the opposite direction from what governments say they want to achieve: greater equality, to lessen the gap between rich and poor, to ‘level-up’. Perpetual stimulus is making those with assets ever richer, at the expense of those who do not have assets. The rich get richer, the poor get inflation. It turns financial speculation not quite into a one-way bet but certainly into a game where the dice are loaded in your favour. It is an economic system which works on the principle of laissez faire when markets are on the way up – and interventionism when they are on the way down. At some point there is going to be irresistible demands to tackle the unfairness of it all. There is a pretty simple solution, which is not to intervene to prop up markets – to tell investors and speculators that they are on their own, caveat emptor and all that. If you make money, then bully for you; if you lose it, well, that’s capitalism, folks. At the moment governments and central banks swallow the argument that we can’t allow markets to crash because it would damage the economy and everyone would suffer. But is that true? The economy didn’t suffer from the 1987 crash, and nor did it from the dotcom crash of 2000 to 2003. On the contrary, economic growth carried on independent of losses in the City or on Wall Street. The dotcom crash didn’t even do anything to hinder the development of the internet, which carried on regardless. End the bailouts, end the stimulus packages and some will lose money. But the economy, and the world, would carry on spinning. It is just that it would be a lot fairer a world. What we have had for the past dozen years is crony capitalism, where governments and central banks act in the interests of a few, but disguise it as help for the many. It is time to end crony capitalism and make way for the real thing. '}"
      ]
     },
     "execution_count": 3,
     "metadata": {},
     "output_type": "execute_result"
    }
   ],
   "source": [
    "{\n",
    "  \"id\": \"89e53bf8-5788-4850-8e04-77c7bad7a00e\",\n",
    "  \"status\": \"processing\",\n",
    "  \"eta\": 104,\n",
    "  \"text\": \" The emergence of Covid provoked a worldwide economic crash. That lasted a mere four weeks. By the time western countries were locking down, a bull market had begun afresh. Through months of lockdowns, soaring case rates and death rates, shares were not just rebounding but marking new highs – firstly involving tech shares and online retailers which had done well from social distancing, but then pretty much anything. The arrival of the first vaccine phase 3 trial results in November 2020 sent shares spinning upwards, yet the emergence of the Alpha and Delta strains didn’t seem to do any harm. And now that economies seem finally to be putting Covid behind them? In Britain, plan B has ended. Denmark has ditched its Covid restrictions entirely. The Netherlands is relaxing its own regime. The omicron wave is petering out, and beginning to look like the ‘natural vaccine’ which some claimed it was from the beginning: highly infectious but much less severe. Yet markets, perversely, seemed to pick up a different story. Tech shares went deep into a correction. The S&P500 may have recovered in recent days, but it is still heavily down on where it was at the end of 2021. Only the FTSE100 seems to have had a good time – but then it has underperformed for years, reviving now mostly because of its domination by plodding, defensive shares. It is true that so long as Vladimir Putin’s tanks remain parked on the Ukraine border it is hard to feel positive about the world. Were they to cross the border and provoke a round of serious sanctions, Europe could well end up the loser – were Russia to cut off the gas supplies, it could send energy prices soaring to even greater heights. Then again, every day that an invasion of Ukraine fails to happen, the less likely it becomes – and we are already four weeks beyond the date it was expected. What really spooked the market was Federal Reserve Chairman Jay Powell, who made it clear that interest rates would rise. Yet rates are rising precisely because the global economy is recovering, with demand for energy and natural resources soaring, feeding through into consumer inflation. Recent US GDP figures showed that the economy expanded by 5.7 per cent in 2021, the strongest rate since 1984. What’s more, the pace is increasing – with an annualised rate of growth of 6.9 per cent in the final quarter. In any case, interest rates will remain at near 400 year lows. No-one expects them to go up to anything like the levels they were in the 1990s. That ought to be good news. Yet investors flee the moment that central banks even make the suggestion that they are thinking of withdrawing the punch bowl of cheap debt. Markets have become so addicted to stimulus packages that they can’t seem to live without them. A weird alignment of interests between speculators and catastrophists has emerged. It has created the perverse situation where good economic news has become bad investment news and vice versa. If the economy is on the slide, the markets begin to expect that another stimulus package is on the way – and share prices rise. If the economy rebounds, then investors begin to fret about the withdrawal of stimulus. Markets and the economy are not merely running out of kilter; to some extent they have become counter-cyclical. The origins of this can be traced to former Federal Reserve chairman Alan Greenspan and his ‘Greenspan put’ – the practice of trying to prop up markets with sharp interest rate cuts and quantitative easing. Rather than stimulating the economy, however, the main effect has been to inflate speculative bubbles in asset prices. Tech companies which do not make profits and in some cases look unlikely ever to make profits are bid up to extraordinary values which can only be sustained in an ultra-low interest rate environment. Housing markets march upwards – in Britain’s case thanks not just to low interest rates but also to government initiatives to underwrite high loan-to-value mortgages and thrust bungs directly into the hands of first time buyers. Over the years, what was intended as a one-off response to the 1987 crash and the Asian crisis on 1998 has formed an expectation among speculators that governments and central banks will always try to bail out markets if the sense of crisis is great enough. Speculators have thus been given a perverse incentive to create a sense of crisis – in the hope that it might help to keep the stimulus ball rolling. Fear, it might be said, provokes reward. There emerges, then, a weird alignment of interests between speculators and catastrophists. For speculators, it becomes in their interests for crisis to prevail, for the pandemic never to end, for Putin’s tanks to be mustered at the Ukraine border – or more mundanely for a poor set of jobs figures or disappointing GDP statistics. What has kept central banks from raising rates or winding in quantitative easing over the past decade is doubt. We still have the monetary policy devised in the depths of the 2008/09 crisis because every time it seemed as if it might be time to normalise policy, rate-setters just had enough doubt to ask: is this really the right time to be raising rates or should we just wait another month or two and see if the economic signals are better then? Come crisis, and we get very rapid reaction with stimulus policies, but come recovery and the normalisation process is agonisingly slow. It won’t take much, either, for Federal Reserve Chairman Jay Powell to go back on his suggestion that interest rates might be raised at the Fed’s March meeting. The Ukraine situation may not have been resolved, there may be another variant of Covid, we may have had a disappointing set of economic figures, markets may have slid further – for anyone who wants to look hard enough there will be a crisis, or potential crisis, to be seen – because there always is. There will never be an occasion when all is clear on the economic horizon. And you can be sure that those with a vested interest in the maintenance of stimulus will be lobbying hard for it. But we should ask where is it all taking us, the era of permanent central bank stimulus? We are heading in the opposite direction from what governments say they want to achieve: greater equality, to lessen the gap between rich and poor, to ‘level-up’. Perpetual stimulus is making those with assets ever richer, at the expense of those who do not have assets. The rich get richer, the poor get inflation. It turns financial speculation not quite into a one-way bet but certainly into a game where the dice are loaded in your favour. It is an economic system which works on the principle of laissez faire when markets are on the way up – and interventionism when they are on the way down. At some point there is going to be irresistible demands to tackle the unfairness of it all. There is a pretty simple solution, which is not to intervene to prop up markets – to tell investors and speculators that they are on their own, caveat emptor and all that. If you make money, then bully for you; if you lose it, well, that’s capitalism, folks. At the moment governments and central banks swallow the argument that we can’t allow markets to crash because it would damage the economy and everyone would suffer. But is that true? The economy didn’t suffer from the 1987 crash, and nor did it from the dotcom crash of 2000 to 2003. On the contrary, economic growth carried on independent of losses in the City or on Wall Street. The dotcom crash didn’t even do anything to hinder the development of the internet, which carried on regardless. End the bailouts, end the stimulus packages and some will lose money. But the economy, and the world, would carry on spinning. It is just that it would be a lot fairer a world. What we have had for the past dozen years is crony capitalism, where governments and central banks act in the interests of a few, but disguise it as help for the many. It is time to end crony capitalism and make way for the real thing. \"\n",
    "}"
   ]
  },
  {
   "cell_type": "markdown",
   "metadata": {
    "id": "l31gArAzQTYa"
   },
   "source": [
    "**Python Requests**"
   ]
  },
  {
   "cell_type": "code",
   "execution_count": 4,
   "metadata": {
    "colab": {
     "base_uri": "https://localhost:8080/"
    },
    "id": "PFVA1vvQPeCZ",
    "outputId": "7971ae5d-f49a-4eaa-bd71-180e10922c1a"
   },
   "outputs": [
    {
     "ename": "SSLError",
     "evalue": "HTTPSConnectionPool(host='large-text-to-speech.p.rapidapi.com', port=443): Max retries exceeded with url: /tts?id=5425b1c0-357b-47cf-a06c-69c5260ea890 (Caused by SSLError(SSLError(1, '[SSL: WRONG_VERSION_NUMBER] wrong version number (_ssl.c:1129)')))",
     "output_type": "error",
     "traceback": [
      "\u001b[1;31m---------------------------------------------------------------------------\u001b[0m",
      "\u001b[1;31mSSLError\u001b[0m                                  Traceback (most recent call last)",
      "File \u001b[1;32m~\\anaconda3\\lib\\site-packages\\urllib3\\connectionpool.py:696\u001b[0m, in \u001b[0;36mHTTPConnectionPool.urlopen\u001b[1;34m(self, method, url, body, headers, retries, redirect, assert_same_host, timeout, pool_timeout, release_conn, chunked, body_pos, **response_kw)\u001b[0m\n\u001b[0;32m    695\u001b[0m \u001b[38;5;28;01mif\u001b[39;00m is_new_proxy_conn \u001b[38;5;129;01mand\u001b[39;00m http_tunnel_required:\n\u001b[1;32m--> 696\u001b[0m     \u001b[38;5;28;43mself\u001b[39;49m\u001b[38;5;241;43m.\u001b[39;49m\u001b[43m_prepare_proxy\u001b[49m\u001b[43m(\u001b[49m\u001b[43mconn\u001b[49m\u001b[43m)\u001b[49m\n\u001b[0;32m    698\u001b[0m \u001b[38;5;66;03m# Make the request on the httplib connection object.\u001b[39;00m\n",
      "File \u001b[1;32m~\\anaconda3\\lib\\site-packages\\urllib3\\connectionpool.py:964\u001b[0m, in \u001b[0;36mHTTPSConnectionPool._prepare_proxy\u001b[1;34m(self, conn)\u001b[0m\n\u001b[0;32m    962\u001b[0m     conn\u001b[38;5;241m.\u001b[39mtls_in_tls_required \u001b[38;5;241m=\u001b[39m \u001b[38;5;28;01mTrue\u001b[39;00m\n\u001b[1;32m--> 964\u001b[0m \u001b[43mconn\u001b[49m\u001b[38;5;241;43m.\u001b[39;49m\u001b[43mconnect\u001b[49m\u001b[43m(\u001b[49m\u001b[43m)\u001b[49m\n",
      "File \u001b[1;32m~\\anaconda3\\lib\\site-packages\\urllib3\\connection.py:359\u001b[0m, in \u001b[0;36mHTTPSConnection.connect\u001b[1;34m(self)\u001b[0m\n\u001b[0;32m    358\u001b[0m \u001b[38;5;28;01mif\u001b[39;00m \u001b[38;5;28mself\u001b[39m\u001b[38;5;241m.\u001b[39mtls_in_tls_required:\n\u001b[1;32m--> 359\u001b[0m     conn \u001b[38;5;241m=\u001b[39m \u001b[38;5;28;43mself\u001b[39;49m\u001b[38;5;241;43m.\u001b[39;49m\u001b[43m_connect_tls_proxy\u001b[49m\u001b[43m(\u001b[49m\u001b[43mhostname\u001b[49m\u001b[43m,\u001b[49m\u001b[43m \u001b[49m\u001b[43mconn\u001b[49m\u001b[43m)\u001b[49m\n\u001b[0;32m    360\u001b[0m     tls_in_tls \u001b[38;5;241m=\u001b[39m \u001b[38;5;28;01mTrue\u001b[39;00m\n",
      "File \u001b[1;32m~\\anaconda3\\lib\\site-packages\\urllib3\\connection.py:496\u001b[0m, in \u001b[0;36mHTTPSConnection._connect_tls_proxy\u001b[1;34m(self, hostname, conn)\u001b[0m\n\u001b[0;32m    494\u001b[0m \u001b[38;5;66;03m# If no cert was provided, use only the default options for server\u001b[39;00m\n\u001b[0;32m    495\u001b[0m \u001b[38;5;66;03m# certificate validation\u001b[39;00m\n\u001b[1;32m--> 496\u001b[0m \u001b[38;5;28;01mreturn\u001b[39;00m \u001b[43mssl_wrap_socket\u001b[49m\u001b[43m(\u001b[49m\n\u001b[0;32m    497\u001b[0m \u001b[43m    \u001b[49m\u001b[43msock\u001b[49m\u001b[38;5;241;43m=\u001b[39;49m\u001b[43mconn\u001b[49m\u001b[43m,\u001b[49m\n\u001b[0;32m    498\u001b[0m \u001b[43m    \u001b[49m\u001b[43mca_certs\u001b[49m\u001b[38;5;241;43m=\u001b[39;49m\u001b[38;5;28;43mself\u001b[39;49m\u001b[38;5;241;43m.\u001b[39;49m\u001b[43mca_certs\u001b[49m\u001b[43m,\u001b[49m\n\u001b[0;32m    499\u001b[0m \u001b[43m    \u001b[49m\u001b[43mca_cert_dir\u001b[49m\u001b[38;5;241;43m=\u001b[39;49m\u001b[38;5;28;43mself\u001b[39;49m\u001b[38;5;241;43m.\u001b[39;49m\u001b[43mca_cert_dir\u001b[49m\u001b[43m,\u001b[49m\n\u001b[0;32m    500\u001b[0m \u001b[43m    \u001b[49m\u001b[43mca_cert_data\u001b[49m\u001b[38;5;241;43m=\u001b[39;49m\u001b[38;5;28;43mself\u001b[39;49m\u001b[38;5;241;43m.\u001b[39;49m\u001b[43mca_cert_data\u001b[49m\u001b[43m,\u001b[49m\n\u001b[0;32m    501\u001b[0m \u001b[43m    \u001b[49m\u001b[43mserver_hostname\u001b[49m\u001b[38;5;241;43m=\u001b[39;49m\u001b[43mhostname\u001b[49m\u001b[43m,\u001b[49m\n\u001b[0;32m    502\u001b[0m \u001b[43m    \u001b[49m\u001b[43mssl_context\u001b[49m\u001b[38;5;241;43m=\u001b[39;49m\u001b[43mssl_context\u001b[49m\u001b[43m,\u001b[49m\n\u001b[0;32m    503\u001b[0m \u001b[43m\u001b[49m\u001b[43m)\u001b[49m\n",
      "File \u001b[1;32m~\\anaconda3\\lib\\site-packages\\urllib3\\util\\ssl_.py:432\u001b[0m, in \u001b[0;36mssl_wrap_socket\u001b[1;34m(sock, keyfile, certfile, cert_reqs, ca_certs, server_hostname, ssl_version, ciphers, ssl_context, ca_cert_dir, key_password, ca_cert_data, tls_in_tls)\u001b[0m\n\u001b[0;32m    431\u001b[0m \u001b[38;5;28;01melse\u001b[39;00m:\n\u001b[1;32m--> 432\u001b[0m     ssl_sock \u001b[38;5;241m=\u001b[39m \u001b[43m_ssl_wrap_socket_impl\u001b[49m\u001b[43m(\u001b[49m\u001b[43msock\u001b[49m\u001b[43m,\u001b[49m\u001b[43m \u001b[49m\u001b[43mcontext\u001b[49m\u001b[43m,\u001b[49m\u001b[43m \u001b[49m\u001b[43mtls_in_tls\u001b[49m\u001b[43m)\u001b[49m\n\u001b[0;32m    433\u001b[0m \u001b[38;5;28;01mreturn\u001b[39;00m ssl_sock\n",
      "File \u001b[1;32m~\\anaconda3\\lib\\site-packages\\urllib3\\util\\ssl_.py:474\u001b[0m, in \u001b[0;36m_ssl_wrap_socket_impl\u001b[1;34m(sock, ssl_context, tls_in_tls, server_hostname)\u001b[0m\n\u001b[0;32m    473\u001b[0m \u001b[38;5;28;01melse\u001b[39;00m:\n\u001b[1;32m--> 474\u001b[0m     \u001b[38;5;28;01mreturn\u001b[39;00m \u001b[43mssl_context\u001b[49m\u001b[38;5;241;43m.\u001b[39;49m\u001b[43mwrap_socket\u001b[49m\u001b[43m(\u001b[49m\u001b[43msock\u001b[49m\u001b[43m)\u001b[49m\n",
      "File \u001b[1;32m~\\anaconda3\\lib\\ssl.py:500\u001b[0m, in \u001b[0;36mSSLContext.wrap_socket\u001b[1;34m(self, sock, server_side, do_handshake_on_connect, suppress_ragged_eofs, server_hostname, session)\u001b[0m\n\u001b[0;32m    494\u001b[0m \u001b[38;5;28;01mdef\u001b[39;00m \u001b[38;5;21mwrap_socket\u001b[39m(\u001b[38;5;28mself\u001b[39m, sock, server_side\u001b[38;5;241m=\u001b[39m\u001b[38;5;28;01mFalse\u001b[39;00m,\n\u001b[0;32m    495\u001b[0m                 do_handshake_on_connect\u001b[38;5;241m=\u001b[39m\u001b[38;5;28;01mTrue\u001b[39;00m,\n\u001b[0;32m    496\u001b[0m                 suppress_ragged_eofs\u001b[38;5;241m=\u001b[39m\u001b[38;5;28;01mTrue\u001b[39;00m,\n\u001b[0;32m    497\u001b[0m                 server_hostname\u001b[38;5;241m=\u001b[39m\u001b[38;5;28;01mNone\u001b[39;00m, session\u001b[38;5;241m=\u001b[39m\u001b[38;5;28;01mNone\u001b[39;00m):\n\u001b[0;32m    498\u001b[0m     \u001b[38;5;66;03m# SSLSocket class handles server_hostname encoding before it calls\u001b[39;00m\n\u001b[0;32m    499\u001b[0m     \u001b[38;5;66;03m# ctx._wrap_socket()\u001b[39;00m\n\u001b[1;32m--> 500\u001b[0m     \u001b[38;5;28;01mreturn\u001b[39;00m \u001b[38;5;28;43mself\u001b[39;49m\u001b[38;5;241;43m.\u001b[39;49m\u001b[43msslsocket_class\u001b[49m\u001b[38;5;241;43m.\u001b[39;49m\u001b[43m_create\u001b[49m\u001b[43m(\u001b[49m\n\u001b[0;32m    501\u001b[0m \u001b[43m        \u001b[49m\u001b[43msock\u001b[49m\u001b[38;5;241;43m=\u001b[39;49m\u001b[43msock\u001b[49m\u001b[43m,\u001b[49m\n\u001b[0;32m    502\u001b[0m \u001b[43m        \u001b[49m\u001b[43mserver_side\u001b[49m\u001b[38;5;241;43m=\u001b[39;49m\u001b[43mserver_side\u001b[49m\u001b[43m,\u001b[49m\n\u001b[0;32m    503\u001b[0m \u001b[43m        \u001b[49m\u001b[43mdo_handshake_on_connect\u001b[49m\u001b[38;5;241;43m=\u001b[39;49m\u001b[43mdo_handshake_on_connect\u001b[49m\u001b[43m,\u001b[49m\n\u001b[0;32m    504\u001b[0m \u001b[43m        \u001b[49m\u001b[43msuppress_ragged_eofs\u001b[49m\u001b[38;5;241;43m=\u001b[39;49m\u001b[43msuppress_ragged_eofs\u001b[49m\u001b[43m,\u001b[49m\n\u001b[0;32m    505\u001b[0m \u001b[43m        \u001b[49m\u001b[43mserver_hostname\u001b[49m\u001b[38;5;241;43m=\u001b[39;49m\u001b[43mserver_hostname\u001b[49m\u001b[43m,\u001b[49m\n\u001b[0;32m    506\u001b[0m \u001b[43m        \u001b[49m\u001b[43mcontext\u001b[49m\u001b[38;5;241;43m=\u001b[39;49m\u001b[38;5;28;43mself\u001b[39;49m\u001b[43m,\u001b[49m\n\u001b[0;32m    507\u001b[0m \u001b[43m        \u001b[49m\u001b[43msession\u001b[49m\u001b[38;5;241;43m=\u001b[39;49m\u001b[43msession\u001b[49m\n\u001b[0;32m    508\u001b[0m \u001b[43m    \u001b[49m\u001b[43m)\u001b[49m\n",
      "File \u001b[1;32m~\\anaconda3\\lib\\ssl.py:1040\u001b[0m, in \u001b[0;36mSSLSocket._create\u001b[1;34m(cls, sock, server_side, do_handshake_on_connect, suppress_ragged_eofs, server_hostname, context, session)\u001b[0m\n\u001b[0;32m   1039\u001b[0m             \u001b[38;5;28;01mraise\u001b[39;00m \u001b[38;5;167;01mValueError\u001b[39;00m(\u001b[38;5;124m\"\u001b[39m\u001b[38;5;124mdo_handshake_on_connect should not be specified for non-blocking sockets\u001b[39m\u001b[38;5;124m\"\u001b[39m)\n\u001b[1;32m-> 1040\u001b[0m         \u001b[38;5;28;43mself\u001b[39;49m\u001b[38;5;241;43m.\u001b[39;49m\u001b[43mdo_handshake\u001b[49m\u001b[43m(\u001b[49m\u001b[43m)\u001b[49m\n\u001b[0;32m   1041\u001b[0m \u001b[38;5;28;01mexcept\u001b[39;00m (\u001b[38;5;167;01mOSError\u001b[39;00m, \u001b[38;5;167;01mValueError\u001b[39;00m):\n",
      "File \u001b[1;32m~\\anaconda3\\lib\\ssl.py:1309\u001b[0m, in \u001b[0;36mSSLSocket.do_handshake\u001b[1;34m(self, block)\u001b[0m\n\u001b[0;32m   1308\u001b[0m         \u001b[38;5;28mself\u001b[39m\u001b[38;5;241m.\u001b[39msettimeout(\u001b[38;5;28;01mNone\u001b[39;00m)\n\u001b[1;32m-> 1309\u001b[0m     \u001b[38;5;28;43mself\u001b[39;49m\u001b[38;5;241;43m.\u001b[39;49m\u001b[43m_sslobj\u001b[49m\u001b[38;5;241;43m.\u001b[39;49m\u001b[43mdo_handshake\u001b[49m\u001b[43m(\u001b[49m\u001b[43m)\u001b[49m\n\u001b[0;32m   1310\u001b[0m \u001b[38;5;28;01mfinally\u001b[39;00m:\n",
      "\u001b[1;31mSSLError\u001b[0m: [SSL: WRONG_VERSION_NUMBER] wrong version number (_ssl.c:1129)",
      "\nDuring handling of the above exception, another exception occurred:\n",
      "\u001b[1;31mMaxRetryError\u001b[0m                             Traceback (most recent call last)",
      "File \u001b[1;32m~\\anaconda3\\lib\\site-packages\\requests\\adapters.py:440\u001b[0m, in \u001b[0;36mHTTPAdapter.send\u001b[1;34m(self, request, stream, timeout, verify, cert, proxies)\u001b[0m\n\u001b[0;32m    439\u001b[0m \u001b[38;5;28;01mif\u001b[39;00m \u001b[38;5;129;01mnot\u001b[39;00m chunked:\n\u001b[1;32m--> 440\u001b[0m     resp \u001b[38;5;241m=\u001b[39m \u001b[43mconn\u001b[49m\u001b[38;5;241;43m.\u001b[39;49m\u001b[43murlopen\u001b[49m\u001b[43m(\u001b[49m\n\u001b[0;32m    441\u001b[0m \u001b[43m        \u001b[49m\u001b[43mmethod\u001b[49m\u001b[38;5;241;43m=\u001b[39;49m\u001b[43mrequest\u001b[49m\u001b[38;5;241;43m.\u001b[39;49m\u001b[43mmethod\u001b[49m\u001b[43m,\u001b[49m\n\u001b[0;32m    442\u001b[0m \u001b[43m        \u001b[49m\u001b[43murl\u001b[49m\u001b[38;5;241;43m=\u001b[39;49m\u001b[43murl\u001b[49m\u001b[43m,\u001b[49m\n\u001b[0;32m    443\u001b[0m \u001b[43m        \u001b[49m\u001b[43mbody\u001b[49m\u001b[38;5;241;43m=\u001b[39;49m\u001b[43mrequest\u001b[49m\u001b[38;5;241;43m.\u001b[39;49m\u001b[43mbody\u001b[49m\u001b[43m,\u001b[49m\n\u001b[0;32m    444\u001b[0m \u001b[43m        \u001b[49m\u001b[43mheaders\u001b[49m\u001b[38;5;241;43m=\u001b[39;49m\u001b[43mrequest\u001b[49m\u001b[38;5;241;43m.\u001b[39;49m\u001b[43mheaders\u001b[49m\u001b[43m,\u001b[49m\n\u001b[0;32m    445\u001b[0m \u001b[43m        \u001b[49m\u001b[43mredirect\u001b[49m\u001b[38;5;241;43m=\u001b[39;49m\u001b[38;5;28;43;01mFalse\u001b[39;49;00m\u001b[43m,\u001b[49m\n\u001b[0;32m    446\u001b[0m \u001b[43m        \u001b[49m\u001b[43massert_same_host\u001b[49m\u001b[38;5;241;43m=\u001b[39;49m\u001b[38;5;28;43;01mFalse\u001b[39;49;00m\u001b[43m,\u001b[49m\n\u001b[0;32m    447\u001b[0m \u001b[43m        \u001b[49m\u001b[43mpreload_content\u001b[49m\u001b[38;5;241;43m=\u001b[39;49m\u001b[38;5;28;43;01mFalse\u001b[39;49;00m\u001b[43m,\u001b[49m\n\u001b[0;32m    448\u001b[0m \u001b[43m        \u001b[49m\u001b[43mdecode_content\u001b[49m\u001b[38;5;241;43m=\u001b[39;49m\u001b[38;5;28;43;01mFalse\u001b[39;49;00m\u001b[43m,\u001b[49m\n\u001b[0;32m    449\u001b[0m \u001b[43m        \u001b[49m\u001b[43mretries\u001b[49m\u001b[38;5;241;43m=\u001b[39;49m\u001b[38;5;28;43mself\u001b[39;49m\u001b[38;5;241;43m.\u001b[39;49m\u001b[43mmax_retries\u001b[49m\u001b[43m,\u001b[49m\n\u001b[0;32m    450\u001b[0m \u001b[43m        \u001b[49m\u001b[43mtimeout\u001b[49m\u001b[38;5;241;43m=\u001b[39;49m\u001b[43mtimeout\u001b[49m\n\u001b[0;32m    451\u001b[0m \u001b[43m    \u001b[49m\u001b[43m)\u001b[49m\n\u001b[0;32m    453\u001b[0m \u001b[38;5;66;03m# Send the request.\u001b[39;00m\n\u001b[0;32m    454\u001b[0m \u001b[38;5;28;01melse\u001b[39;00m:\n",
      "File \u001b[1;32m~\\anaconda3\\lib\\site-packages\\urllib3\\connectionpool.py:755\u001b[0m, in \u001b[0;36mHTTPConnectionPool.urlopen\u001b[1;34m(self, method, url, body, headers, retries, redirect, assert_same_host, timeout, pool_timeout, release_conn, chunked, body_pos, **response_kw)\u001b[0m\n\u001b[0;32m    753\u001b[0m     e \u001b[38;5;241m=\u001b[39m ProtocolError(\u001b[38;5;124m\"\u001b[39m\u001b[38;5;124mConnection aborted.\u001b[39m\u001b[38;5;124m\"\u001b[39m, e)\n\u001b[1;32m--> 755\u001b[0m retries \u001b[38;5;241m=\u001b[39m \u001b[43mretries\u001b[49m\u001b[38;5;241;43m.\u001b[39;49m\u001b[43mincrement\u001b[49m\u001b[43m(\u001b[49m\n\u001b[0;32m    756\u001b[0m \u001b[43m    \u001b[49m\u001b[43mmethod\u001b[49m\u001b[43m,\u001b[49m\u001b[43m \u001b[49m\u001b[43murl\u001b[49m\u001b[43m,\u001b[49m\u001b[43m \u001b[49m\u001b[43merror\u001b[49m\u001b[38;5;241;43m=\u001b[39;49m\u001b[43me\u001b[49m\u001b[43m,\u001b[49m\u001b[43m \u001b[49m\u001b[43m_pool\u001b[49m\u001b[38;5;241;43m=\u001b[39;49m\u001b[38;5;28;43mself\u001b[39;49m\u001b[43m,\u001b[49m\u001b[43m \u001b[49m\u001b[43m_stacktrace\u001b[49m\u001b[38;5;241;43m=\u001b[39;49m\u001b[43msys\u001b[49m\u001b[38;5;241;43m.\u001b[39;49m\u001b[43mexc_info\u001b[49m\u001b[43m(\u001b[49m\u001b[43m)\u001b[49m\u001b[43m[\u001b[49m\u001b[38;5;241;43m2\u001b[39;49m\u001b[43m]\u001b[49m\n\u001b[0;32m    757\u001b[0m \u001b[43m\u001b[49m\u001b[43m)\u001b[49m\n\u001b[0;32m    758\u001b[0m retries\u001b[38;5;241m.\u001b[39msleep()\n",
      "File \u001b[1;32m~\\anaconda3\\lib\\site-packages\\urllib3\\util\\retry.py:573\u001b[0m, in \u001b[0;36mRetry.increment\u001b[1;34m(self, method, url, response, error, _pool, _stacktrace)\u001b[0m\n\u001b[0;32m    572\u001b[0m \u001b[38;5;28;01mif\u001b[39;00m new_retry\u001b[38;5;241m.\u001b[39mis_exhausted():\n\u001b[1;32m--> 573\u001b[0m     \u001b[38;5;28;01mraise\u001b[39;00m MaxRetryError(_pool, url, error \u001b[38;5;129;01mor\u001b[39;00m ResponseError(cause))\n\u001b[0;32m    575\u001b[0m log\u001b[38;5;241m.\u001b[39mdebug(\u001b[38;5;124m\"\u001b[39m\u001b[38;5;124mIncremented Retry for (url=\u001b[39m\u001b[38;5;124m'\u001b[39m\u001b[38;5;132;01m%s\u001b[39;00m\u001b[38;5;124m'\u001b[39m\u001b[38;5;124m): \u001b[39m\u001b[38;5;132;01m%r\u001b[39;00m\u001b[38;5;124m\"\u001b[39m, url, new_retry)\n",
      "\u001b[1;31mMaxRetryError\u001b[0m: HTTPSConnectionPool(host='large-text-to-speech.p.rapidapi.com', port=443): Max retries exceeded with url: /tts?id=5425b1c0-357b-47cf-a06c-69c5260ea890 (Caused by SSLError(SSLError(1, '[SSL: WRONG_VERSION_NUMBER] wrong version number (_ssl.c:1129)')))",
      "\nDuring handling of the above exception, another exception occurred:\n",
      "\u001b[1;31mSSLError\u001b[0m                                  Traceback (most recent call last)",
      "Input \u001b[1;32mIn [4]\u001b[0m, in \u001b[0;36m<cell line: 12>\u001b[1;34m()\u001b[0m\n\u001b[0;32m      5\u001b[0m querystring \u001b[38;5;241m=\u001b[39m {\u001b[38;5;124m\"\u001b[39m\u001b[38;5;124mid\u001b[39m\u001b[38;5;124m\"\u001b[39m:\u001b[38;5;124m\"\u001b[39m\u001b[38;5;124m5425b1c0-357b-47cf-a06c-69c5260ea890\u001b[39m\u001b[38;5;124m\"\u001b[39m}\n\u001b[0;32m      7\u001b[0m headers \u001b[38;5;241m=\u001b[39m {\n\u001b[0;32m      8\u001b[0m \t\u001b[38;5;124m\"\u001b[39m\u001b[38;5;124mX-RapidAPI-Key\u001b[39m\u001b[38;5;124m\"\u001b[39m: \u001b[38;5;124m\"\u001b[39m\u001b[38;5;124m787e918554msh5ed22b55cc3c2dfp1395c0jsnf869bc883c93\u001b[39m\u001b[38;5;124m\"\u001b[39m,\n\u001b[0;32m      9\u001b[0m \t\u001b[38;5;124m\"\u001b[39m\u001b[38;5;124mX-RapidAPI-Host\u001b[39m\u001b[38;5;124m\"\u001b[39m: \u001b[38;5;124m\"\u001b[39m\u001b[38;5;124mlarge-text-to-speech.p.rapidapi.com\u001b[39m\u001b[38;5;124m\"\u001b[39m\n\u001b[0;32m     10\u001b[0m }\n\u001b[1;32m---> 12\u001b[0m response \u001b[38;5;241m=\u001b[39m \u001b[43mrequests\u001b[49m\u001b[38;5;241;43m.\u001b[39;49m\u001b[43mget\u001b[49m\u001b[43m(\u001b[49m\u001b[43murl\u001b[49m\u001b[43m,\u001b[49m\u001b[43m \u001b[49m\u001b[43mheaders\u001b[49m\u001b[38;5;241;43m=\u001b[39;49m\u001b[43mheaders\u001b[49m\u001b[43m,\u001b[49m\u001b[43m \u001b[49m\u001b[43mparams\u001b[49m\u001b[38;5;241;43m=\u001b[39;49m\u001b[43mquerystring\u001b[49m\u001b[43m)\u001b[49m\n\u001b[0;32m     14\u001b[0m \u001b[38;5;28mprint\u001b[39m(response\u001b[38;5;241m.\u001b[39mjson())\n",
      "File \u001b[1;32m~\\anaconda3\\lib\\site-packages\\requests\\api.py:75\u001b[0m, in \u001b[0;36mget\u001b[1;34m(url, params, **kwargs)\u001b[0m\n\u001b[0;32m     64\u001b[0m \u001b[38;5;28;01mdef\u001b[39;00m \u001b[38;5;21mget\u001b[39m(url, params\u001b[38;5;241m=\u001b[39m\u001b[38;5;28;01mNone\u001b[39;00m, \u001b[38;5;241m*\u001b[39m\u001b[38;5;241m*\u001b[39mkwargs):\n\u001b[0;32m     65\u001b[0m     \u001b[38;5;124mr\u001b[39m\u001b[38;5;124;03m\"\"\"Sends a GET request.\u001b[39;00m\n\u001b[0;32m     66\u001b[0m \n\u001b[0;32m     67\u001b[0m \u001b[38;5;124;03m    :param url: URL for the new :class:`Request` object.\u001b[39;00m\n\u001b[1;32m   (...)\u001b[0m\n\u001b[0;32m     72\u001b[0m \u001b[38;5;124;03m    :rtype: requests.Response\u001b[39;00m\n\u001b[0;32m     73\u001b[0m \u001b[38;5;124;03m    \"\"\"\u001b[39;00m\n\u001b[1;32m---> 75\u001b[0m     \u001b[38;5;28;01mreturn\u001b[39;00m request(\u001b[38;5;124m'\u001b[39m\u001b[38;5;124mget\u001b[39m\u001b[38;5;124m'\u001b[39m, url, params\u001b[38;5;241m=\u001b[39mparams, \u001b[38;5;241m*\u001b[39m\u001b[38;5;241m*\u001b[39mkwargs)\n",
      "File \u001b[1;32m~\\anaconda3\\lib\\site-packages\\requests\\api.py:61\u001b[0m, in \u001b[0;36mrequest\u001b[1;34m(method, url, **kwargs)\u001b[0m\n\u001b[0;32m     57\u001b[0m \u001b[38;5;66;03m# By using the 'with' statement we are sure the session is closed, thus we\u001b[39;00m\n\u001b[0;32m     58\u001b[0m \u001b[38;5;66;03m# avoid leaving sockets open which can trigger a ResourceWarning in some\u001b[39;00m\n\u001b[0;32m     59\u001b[0m \u001b[38;5;66;03m# cases, and look like a memory leak in others.\u001b[39;00m\n\u001b[0;32m     60\u001b[0m \u001b[38;5;28;01mwith\u001b[39;00m sessions\u001b[38;5;241m.\u001b[39mSession() \u001b[38;5;28;01mas\u001b[39;00m session:\n\u001b[1;32m---> 61\u001b[0m     \u001b[38;5;28;01mreturn\u001b[39;00m session\u001b[38;5;241m.\u001b[39mrequest(method\u001b[38;5;241m=\u001b[39mmethod, url\u001b[38;5;241m=\u001b[39murl, \u001b[38;5;241m*\u001b[39m\u001b[38;5;241m*\u001b[39mkwargs)\n",
      "File \u001b[1;32m~\\anaconda3\\lib\\site-packages\\requests\\sessions.py:529\u001b[0m, in \u001b[0;36mSession.request\u001b[1;34m(self, method, url, params, data, headers, cookies, files, auth, timeout, allow_redirects, proxies, hooks, stream, verify, cert, json)\u001b[0m\n\u001b[0;32m    524\u001b[0m send_kwargs \u001b[38;5;241m=\u001b[39m {\n\u001b[0;32m    525\u001b[0m     \u001b[38;5;124m'\u001b[39m\u001b[38;5;124mtimeout\u001b[39m\u001b[38;5;124m'\u001b[39m: timeout,\n\u001b[0;32m    526\u001b[0m     \u001b[38;5;124m'\u001b[39m\u001b[38;5;124mallow_redirects\u001b[39m\u001b[38;5;124m'\u001b[39m: allow_redirects,\n\u001b[0;32m    527\u001b[0m }\n\u001b[0;32m    528\u001b[0m send_kwargs\u001b[38;5;241m.\u001b[39mupdate(settings)\n\u001b[1;32m--> 529\u001b[0m resp \u001b[38;5;241m=\u001b[39m \u001b[38;5;28mself\u001b[39m\u001b[38;5;241m.\u001b[39msend(prep, \u001b[38;5;241m*\u001b[39m\u001b[38;5;241m*\u001b[39msend_kwargs)\n\u001b[0;32m    531\u001b[0m \u001b[38;5;28;01mreturn\u001b[39;00m resp\n",
      "File \u001b[1;32m~\\anaconda3\\lib\\site-packages\\requests\\sessions.py:645\u001b[0m, in \u001b[0;36mSession.send\u001b[1;34m(self, request, **kwargs)\u001b[0m\n\u001b[0;32m    642\u001b[0m start \u001b[38;5;241m=\u001b[39m preferred_clock()\n\u001b[0;32m    644\u001b[0m \u001b[38;5;66;03m# Send the request\u001b[39;00m\n\u001b[1;32m--> 645\u001b[0m r \u001b[38;5;241m=\u001b[39m adapter\u001b[38;5;241m.\u001b[39msend(request, \u001b[38;5;241m*\u001b[39m\u001b[38;5;241m*\u001b[39mkwargs)\n\u001b[0;32m    647\u001b[0m \u001b[38;5;66;03m# Total elapsed time of the request (approximately)\u001b[39;00m\n\u001b[0;32m    648\u001b[0m elapsed \u001b[38;5;241m=\u001b[39m preferred_clock() \u001b[38;5;241m-\u001b[39m start\n",
      "File \u001b[1;32m~\\anaconda3\\lib\\site-packages\\requests\\adapters.py:517\u001b[0m, in \u001b[0;36mHTTPAdapter.send\u001b[1;34m(self, request, stream, timeout, verify, cert, proxies)\u001b[0m\n\u001b[0;32m    513\u001b[0m         \u001b[38;5;28;01mraise\u001b[39;00m ProxyError(e, request\u001b[38;5;241m=\u001b[39mrequest)\n\u001b[0;32m    515\u001b[0m     \u001b[38;5;28;01mif\u001b[39;00m \u001b[38;5;28misinstance\u001b[39m(e\u001b[38;5;241m.\u001b[39mreason, _SSLError):\n\u001b[0;32m    516\u001b[0m         \u001b[38;5;66;03m# This branch is for urllib3 v1.22 and later.\u001b[39;00m\n\u001b[1;32m--> 517\u001b[0m         \u001b[38;5;28;01mraise\u001b[39;00m SSLError(e, request\u001b[38;5;241m=\u001b[39mrequest)\n\u001b[0;32m    519\u001b[0m     \u001b[38;5;28;01mraise\u001b[39;00m \u001b[38;5;167;01mConnectionError\u001b[39;00m(e, request\u001b[38;5;241m=\u001b[39mrequest)\n\u001b[0;32m    521\u001b[0m \u001b[38;5;28;01mexcept\u001b[39;00m ClosedPoolError \u001b[38;5;28;01mas\u001b[39;00m e:\n",
      "\u001b[1;31mSSLError\u001b[0m: HTTPSConnectionPool(host='large-text-to-speech.p.rapidapi.com', port=443): Max retries exceeded with url: /tts?id=5425b1c0-357b-47cf-a06c-69c5260ea890 (Caused by SSLError(SSLError(1, '[SSL: WRONG_VERSION_NUMBER] wrong version number (_ssl.c:1129)')))"
     ]
    }
   ],
   "source": [
    "import requests\n",
    "\n",
    "url = \"https://large-text-to-speech.p.rapidapi.com/tts\"\n",
    "\n",
    "querystring = {\"id\":\"5425b1c0-357b-47cf-a06c-69c5260ea890\"}\n",
    "\n",
    "headers = {\n",
    "\t\"X-RapidAPI-Key\": \"787e918554msh5ed22b55cc3c2dfp1395c0jsnf869bc883c93\",\n",
    "\t\"X-RapidAPI-Host\": \"large-text-to-speech.p.rapidapi.com\"\n",
    "}\n",
    "\n",
    "response = requests.get(url, headers=headers, params=querystring)\n",
    "\n",
    "print(response.json())"
   ]
  },
  {
   "cell_type": "markdown",
   "metadata": {
    "id": "wumz0EUkSQtg"
   },
   "source": [
    "**Cloudlabs Text To Speech**\n",
    "\n",
    "[Cloudlabs Text To Speech RapidAPI](https://https://colab.research.google.com/drive/1LZl6b43gfyctVuhdoW-xpAIPRaVXbRwE#scrollTo=wumz0EUkSQtg&line=2&uniqifier=1)"
   ]
  },
  {
   "cell_type": "markdown",
   "metadata": {
    "id": "LWe4tQd9TqPT"
   },
   "source": [
    "**Available Voice Code**\n",
    "\n",
    "[ Voice Code](https://https://rapidapi.com/cloudlabs-dev/api/cloudlabs-text-to-speech/details)\n",
    "\n",
    "example :\n",
    "\n",
    "English (United States) : en-US-3 ,\n",
    "English (Canada) : en-CA-2,\n",
    "English (Australia) : en-AU-3 ,\n",
    "English (United Kingdom) : en-GB-2 ,\n",
    "English (Ireland) : en-IE-1 ,\n",
    "Persian (Iran) : fa-IR-1 ,\n",
    "Finnish (Finland) : fi-FI-2 ,\n",
    "Dutch (Netherlands) : nl-NL-1 ,\n",
    "Polish (Poland) : pl-PL-2 ,\n",
    "Slovak (Slovakia) : sk-SK-1 ,\n",
    "Swedish (Sweden) : sv-SE-2 ,\n",
    "Turkish (Turkey) : tr-TR-2 ,\n",
    "French (France) :\tfr-FR-2 ,\n",
    "Welsh (United Kingdom) : cy-GB-1 ,\n",
    "German (Germany) : de-DE-1 ,\n",
    "\n"
   ]
  },
  {
   "cell_type": "code",
   "execution_count": null,
   "metadata": {
    "colab": {
     "base_uri": "https://localhost:8080/"
    },
    "id": "rs4b4X1rQ2gw",
    "outputId": "e62502d9-938c-4cb2-ab77-7dae49eef5bd"
   },
   "outputs": [],
   "source": [
    "import requests\n",
    "\n",
    "url = \"https://cloudlabs-text-to-speech.p.rapidapi.com/synthesize\"\n",
    "\n",
    "payload = {\n",
    "\t\"voice_code\": \"en-US-1\",\n",
    "\t\"text\": \"hello, what is your name?\",\n",
    "\t\"speed\": \"1.00\",\n",
    "\t\"pitch\": \"1.00\",\n",
    "\t\"output_type\": \"audio_url\"\n",
    "}\n",
    "headers = {\n",
    "\t\"content-type\": \"application/x-www-form-urlencoded\",\n",
    "\t\"X-RapidAPI-Key\": \"787e918554msh5ed22b55cc3c2dfp1395c0jsnf869bc883c93\",\n",
    "\t\"X-RapidAPI-Host\": \"cloudlabs-text-to-speech.p.rapidapi.com\"\n",
    "}\n",
    "\n",
    "response = requests.post(url, data=payload, headers=headers)\n",
    "\n",
    "print(response.json())"
   ]
  },
  {
   "cell_type": "code",
   "execution_count": null,
   "metadata": {
    "colab": {
     "base_uri": "https://localhost:8080/"
    },
    "id": "jDqddI5WSsJO",
    "outputId": "72de74f0-44f4-48b7-cba7-0d3dc4381260"
   },
   "outputs": [],
   "source": [
    "import http.client\n",
    "\n",
    "conn = http.client.HTTPSConnection(\"cloudlabs-text-to-speech.p.rapidapi.com\")\n",
    "\n",
    "payload = \"voice_code=en-US-1&text=hello%2C%20what%20is%20your%20name%3F&speed=1.00&pitch=1.00&output_type=audio_url\"\n",
    "\n",
    "headers = {\n",
    "    'content-type': \"application/x-www-form-urlencoded\",\n",
    "    'X-RapidAPI-Key': \"787e918554msh5ed22b55cc3c2dfp1395c0jsnf869bc883c93\",\n",
    "    'X-RapidAPI-Host': \"cloudlabs-text-to-speech.p.rapidapi.com\"\n",
    "}\n",
    "\n",
    "conn.request(\"POST\", \"/synthesize\", payload, headers)\n",
    "\n",
    "res = conn.getresponse()\n",
    "data = res.read()\n",
    "\n",
    "print(data.decode(\"utf-8\"))"
   ]
  },
  {
   "cell_type": "code",
   "execution_count": null,
   "metadata": {
    "colab": {
     "base_uri": "https://localhost:8080/"
    },
    "id": "bIzCwZxpWf68",
    "outputId": "f406e09c-09cc-4fef-97bd-33164526a4bb"
   },
   "outputs": [],
   "source": [
    "import requests\n",
    "\n",
    "url = \"https://text-to-speech-pro.p.rapidapi.com/api/voices\"\n",
    "\n",
    "headers = {\n",
    "\t\"X-RapidAPI-Key\": \"787e918554msh5ed22b55cc3c2dfp1395c0jsnf869bc883c93\",\n",
    "\t\"X-RapidAPI-Host\": \"text-to-speech-pro.p.rapidapi.com\"\n",
    "}\n",
    "\n",
    "response = requests.get(url, headers=headers)\n",
    "\n",
    "print(response.json())"
   ]
  },
  {
   "cell_type": "markdown",
   "metadata": {
    "id": "kMEt3fsav49I"
   },
   "source": [
    "# Text to speech \n",
    "\n",
    "i tested at website\n",
    "\n",
    "**[Text to speech Good For LLMs](https://https://rapidapi.com/kelvin2go/api/text-to-speech27)**"
   ]
  },
  {
   "cell_type": "code",
   "execution_count": null,
   "metadata": {
    "id": "0fAAmFVJfmLI"
   },
   "outputs": [],
   "source": [
    "# import requests\n",
    "\n",
    "# url = \"https://text-to-speech27.p.rapidapi.com/speech\"\n",
    "\n",
    "# querystring = {\"text\":\"Yellowstone National Park, located in Idaho, Montana, and Wyoming, was established as the first national park in the United States. The park is a popular destination for visitors who enjoy ecological tourism as it offers forests, mountains, and abundant ecosystems to explore. Some of Yellowstone’s most well-known landmarks are its geothermal hot springs and geysers, the most famous of which is named Old Faithful. Last fall, Lisa and her friends decided to take a camping trip to Yellowstone National Park. They arranged to stay at one of the park’s many convenient campsites. For their camping trip, they brought their backpacks, sleeping bags, and a cooler of food and drinks. They pitched their tents immediately upon arriving to their campsite. During their trip, Lisa and her friends hiked the many trails of the park, exploring its natural surroundings. In the forest, they saw a lot of local wildlife. Lisa was surprised to see a family of grizzly bears, some gray wolves, and even bald eagles flying overhead. Outside of the woods, they admired the beauty of some of Yellowstone’s natural cascades. Since Yellowstone contains many hot springs and the world’s largest area of active geysers, Lisa and her friends visited many different geyser sites. They even spent an afternoon swimming in Yellowstone’s Boiling River. Of all of the sites, Lisa and her friends agreed that Old Faithful was the most impressive. Lisa and her friends waited patiently for the geyser to erupt. After about 40 minutes, a stream of boiling water over 100 feet tall sprayed from the ground and up into the air. Fortunately, no one got wet!\",\"lang\":\"de\"}\n",
    "\n",
    "# headers = {\n",
    "# \t\"X-RapidAPI-Key\": \"787e918554msh5ed22b55cc3c2dfp1395c0jsnf869bc883c93\",\n",
    "# \t\"X-RapidAPI-Host\": \"text-to-speech27.p.rapidapi.com\"\n",
    "# }\n",
    "\n",
    "# response = requests.get(url, headers=headers, params=querystring)\n",
    "\n",
    "# print(response.json())"
   ]
  },
  {
   "cell_type": "code",
   "execution_count": null,
   "metadata": {
    "colab": {
     "background_save": true,
     "base_uri": "https://localhost:8080/",
     "height": 235
    },
    "id": "prqcDX45wXjq",
    "outputId": "0b0bbf36-ae70-43c2-e379-c1abafa7232b"
   },
   "outputs": [],
   "source": [
    "import json\n",
    "import requests\n",
    "\n",
    "headers = {\"Authorization\": \"Bearer 🔑 Your_API_Key\"}\n",
    "\n",
    "url =\"https://api.edenai.run/v2/audio/text_to_speech\"\n",
    "payload={\"providers\": \"google,amazon\", \"language\": \"en-US\", \"option\":\"MALE\", \"text\": \"this is a test\"}\n",
    "\n",
    "response = requests.post(url, json=payload, headers=headers)\n",
    "\n",
    "result = json.loads(response.text)\n",
    "print(result['google']['audio'])\n"
   ]
  }
 ],
 "metadata": {
  "accelerator": "GPU",
  "colab": {
   "provenance": []
  },
  "gpuClass": "standard",
  "kernelspec": {
   "display_name": "Python 3 (ipykernel)",
   "language": "python",
   "name": "python3"
  },
  "language_info": {
   "codemirror_mode": {
    "name": "ipython",
    "version": 3
   },
   "file_extension": ".py",
   "mimetype": "text/x-python",
   "name": "python",
   "nbconvert_exporter": "python",
   "pygments_lexer": "ipython3",
   "version": "3.9.12"
  }
 },
 "nbformat": 4,
 "nbformat_minor": 1
}
